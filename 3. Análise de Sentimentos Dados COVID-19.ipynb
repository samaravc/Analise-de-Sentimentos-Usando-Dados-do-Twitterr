{
 "cells": [
  {
   "cell_type": "markdown",
   "id": "0ef9dbf1",
   "metadata": {},
   "source": [
    "# APLICAÇÃO DA ANÁLISE DE SENTIMENTOS NO TWITTER SOBRE A QUARTA ONDA DO COVID-19"
   ]
  },
  {
   "attachments": {
    "Analise%20de%20Sentimento.png": {
     "image/png": "[encoded data removed]"
    }
   },
   "cell_type": "markdown",
   "id": "482ce946",
   "metadata": {},
   "source": [
    "![Analise%20de%20Sentimento.png](attachment:Analise%20de%20Sentimento.png)"
   ]
  },
  {
   "cell_type": "markdown",
   "id": "00d46579",
   "metadata": {},
   "source": [
    "# 1. PREPARANDO O AMBIENTE "
   ]
  },
  {
   "cell_type": "markdown",
   "id": "227e7961",
   "metadata": {},
   "source": [
    "1.1. IMPORTANDO BIBLIOTECA"
   ]
  },
  {
   "cell_type": "code",
   "execution_count": 12,
   "id": "27bd2c59",
   "metadata": {},
   "outputs": [],
   "source": [
    "import numpy as np #algebra linear\n",
    "import pandas as pd #processamento de dados (e.g.pd.read_csv)\n",
    "import re #for regex\n",
    "from nltk.corpus import stopwords\n",
    "from nltk.tokenize import word_tokenize\n",
    "from nltk.stem import SnowballStemmer\n",
    "from sklearn.feature_extraction.text import CountVectorizer\n",
    "from sklearn.model_selection import train_test_split\n",
    "from sklearn.naive_bayes import GaussianNB, MultinomialNB, BernoulliNB\n",
    "from sklearn.metrics import accuracy_score\n",
    "import pickle"
   ]
  },
  {
   "cell_type": "markdown",
   "id": "3f789c6f",
   "metadata": {},
   "source": [
    "1.2. CARREGANDO BASE DE DADOS/LER DADOS"
   ]
  },
  {
   "cell_type": "code",
   "execution_count": 13,
   "id": "802a8e94",
   "metadata": {},
   "outputs": [
    {
     "name": "stdout",
     "output_type": "stream",
     "text": [
      "(443, 8)\n"
     ]
    },
    {
     "data": {
      "text/html": [
       "<div>\n",
       "<style scoped>\n",
       "    .dataframe tbody tr th:only-of-type {\n",
       "        vertical-align: middle;\n",
       "    }\n",
       "\n",
       "    .dataframe tbody tr th {\n",
       "        vertical-align: top;\n",
       "    }\n",
       "\n",
       "    .dataframe thead th {\n",
       "        text-align: right;\n",
       "    }\n",
       "</style>\n",
       "<table border=\"1\" class=\"dataframe\">\n",
       "  <thead>\n",
       "    <tr style=\"text-align: right;\">\n",
       "      <th></th>\n",
       "      <th>Unnamed: 0</th>\n",
       "      <th>id</th>\n",
       "      <th>author_id</th>\n",
       "      <th>created_at</th>\n",
       "      <th>lang</th>\n",
       "      <th>text</th>\n",
       "      <th>classific</th>\n",
       "      <th>score</th>\n",
       "    </tr>\n",
       "  </thead>\n",
       "  <tbody>\n",
       "    <tr>\n",
       "      <th>0</th>\n",
       "      <td>0</td>\n",
       "      <td>1</td>\n",
       "      <td>16.30789806</td>\n",
       "      <td>2022-06-15 21:23:53+00:00</td>\n",
       "      <td>pt</td>\n",
       "      <td>Pandemia acelerou transformação digital da mão...</td>\n",
       "      <td>neutro</td>\n",
       "      <td>0.559524</td>\n",
       "    </tr>\n",
       "    <tr>\n",
       "      <th>1</th>\n",
       "      <td>1</td>\n",
       "      <td>2</td>\n",
       "      <td>30.12152731</td>\n",
       "      <td>2022-06-15 21:23:51+00:00</td>\n",
       "      <td>pt</td>\n",
       "      <td>não tenho estrutura nenhuma pra minha gata com...</td>\n",
       "      <td>neutro</td>\n",
       "      <td>0.500000</td>\n",
       "    </tr>\n",
       "    <tr>\n",
       "      <th>2</th>\n",
       "      <td>2</td>\n",
       "      <td>3</td>\n",
       "      <td>60.11008242</td>\n",
       "      <td>2022-06-15 21:23:49+00:00</td>\n",
       "      <td>pt</td>\n",
       "      <td>RT @g_garc2: Tempos estranhos...;;;</td>\n",
       "      <td>neutro</td>\n",
       "      <td>0.500000</td>\n",
       "    </tr>\n",
       "    <tr>\n",
       "      <th>3</th>\n",
       "      <td>3</td>\n",
       "      <td>4</td>\n",
       "      <td>-</td>\n",
       "      <td>-</td>\n",
       "      <td>pt</td>\n",
       "      <td>Pandemia politicamente correta. ;;;</td>\n",
       "      <td>neutro</td>\n",
       "      <td>0.500000</td>\n",
       "    </tr>\n",
       "    <tr>\n",
       "      <th>4</th>\n",
       "      <td>4</td>\n",
       "      <td>5</td>\n",
       "      <td>-</td>\n",
       "      <td>-</td>\n",
       "      <td>pt</td>\n",
       "      <td>A que ponto chegamos! https://t.co/Yg9bwd6tog\";;;</td>\n",
       "      <td>neutro</td>\n",
       "      <td>0.500000</td>\n",
       "    </tr>\n",
       "  </tbody>\n",
       "</table>\n",
       "</div>"
      ],
      "text/plain": [
       "   Unnamed: 0  id    author_id                 created_at lang  \\\n",
       "0           0   1  16.30789806  2022-06-15 21:23:53+00:00   pt   \n",
       "1           1   2  30.12152731  2022-06-15 21:23:51+00:00   pt   \n",
       "2           2   3  60.11008242  2022-06-15 21:23:49+00:00   pt   \n",
       "3           3   4           -                          -    pt   \n",
       "4           4   5           -                          -    pt   \n",
       "\n",
       "                                                text classific     score  \n",
       "0  Pandemia acelerou transformação digital da mão...    neutro  0.559524  \n",
       "1  não tenho estrutura nenhuma pra minha gata com...    neutro  0.500000  \n",
       "2                RT @g_garc2: Tempos estranhos...;;;    neutro  0.500000  \n",
       "3                Pandemia politicamente correta. ;;;    neutro  0.500000  \n",
       "4  A que ponto chegamos! https://t.co/Yg9bwd6tog\";;;    neutro  0.500000  "
      ]
     },
     "execution_count": 13,
     "metadata": {},
     "output_type": "execute_result"
    }
   ],
   "source": [
    "data = pd.read_csv('C:/Users/Samara Viana Costa/OneDrive/Área de Trabalho/dados_classificados.csv')  \n",
    "print(data.shape)\n",
    "data.head()"
   ]
  },
  {
   "cell_type": "code",
   "execution_count": 3,
   "id": "0bfe6a78",
   "metadata": {},
   "outputs": [],
   "source": [
    "#Filtrar a categoria \"Neutro\"\n",
    "#data=data[data.classific!='neutro']"
   ]
  },
  {
   "cell_type": "code",
   "execution_count": 14,
   "id": "66cf9c6c",
   "metadata": {
    "scrolled": true
   },
   "outputs": [
    {
     "name": "stdout",
     "output_type": "stream",
     "text": [
      "<class 'pandas.core.frame.DataFrame'>\n",
      "RangeIndex: 443 entries, 0 to 442\n",
      "Data columns (total 8 columns):\n",
      " #   Column      Non-Null Count  Dtype  \n",
      "---  ------      --------------  -----  \n",
      " 0   Unnamed: 0  443 non-null    int64  \n",
      " 1   id          443 non-null    int64  \n",
      " 2   author_id   443 non-null    object \n",
      " 3   created_at  443 non-null    object \n",
      " 4   lang        443 non-null    object \n",
      " 5   text        443 non-null    object \n",
      " 6   classific   443 non-null    object \n",
      " 7   score       443 non-null    float64\n",
      "dtypes: float64(1), int64(2), object(5)\n",
      "memory usage: 27.8+ KB\n"
     ]
    }
   ],
   "source": [
    "#Verificando informações de 'nº' e 'nº de variáveis'\n",
    "data.info()"
   ]
  },
  {
   "cell_type": "markdown",
   "id": "22177627",
   "metadata": {},
   "source": [
    "# 2. ANÁLISE DESCRITIVA DOS DADOS"
   ]
  },
  {
   "cell_type": "code",
   "execution_count": 15,
   "id": "38dcea71",
   "metadata": {},
   "outputs": [
    {
     "data": {
      "text/plain": [
       "neutro      298\n",
       "positivo     85\n",
       "negativo     60\n",
       "Name: classific, dtype: int64"
      ]
     },
     "execution_count": 15,
     "metadata": {},
     "output_type": "execute_result"
    }
   ],
   "source": [
    "#frequencia Classificação\n",
    "data.classific.value_counts()"
   ]
  },
  {
   "cell_type": "code",
   "execution_count": 16,
   "id": "b1c490d4",
   "metadata": {},
   "outputs": [
    {
     "data": {
      "text/plain": [
       "<AxesSubplot:>"
      ]
     },
     "execution_count": 16,
     "metadata": {},
     "output_type": "execute_result"
    },
    {
     "data": {
      "image/png": "[encoded data removed]",
      "text/plain": [
       "<Figure size 432x288 with 1 Axes>"
      ]
     },
     "metadata": {
      "needs_background": "light"
     },
     "output_type": "display_data"
    }
   ],
   "source": [
    "#Gráfico - Classificação\n",
    "%matplotlib inline\n",
    "data.classific.value_counts().plot(kind='bar')"
   ]
  },
  {
   "cell_type": "markdown",
   "id": "c7413594",
   "metadata": {},
   "source": [
    "# 3. PRE-PROCESSAMENTO DOS DADOS"
   ]
  },
  {
   "cell_type": "markdown",
   "id": "b6101bd6",
   "metadata": {},
   "source": [
    "1. Remove Stopwords\n",
    "2. Lematização\n",
    "3. Remove caracteres indesejados como links etc."
   ]
  },
  {
   "cell_type": "markdown",
   "id": "fa90eb15",
   "metadata": {},
   "source": [
    "# 3.1. Funções de Pre-processamento de dados"
   ]
  },
  {
   "cell_type": "markdown",
   "id": "fa0e9a7e",
   "metadata": {},
   "source": [
    "# 3.1.1. Limpeza dos Dados"
   ]
  },
  {
   "cell_type": "markdown",
   "id": "ebbe7533",
   "metadata": {},
   "source": [
    "3.1.1.1. Remover HTML, TAGS,  Regex:'<,*?>'"
   ]
  },
  {
   "cell_type": "code",
   "execution_count": 20,
   "id": "45af4b58",
   "metadata": {},
   "outputs": [
    {
     "data": {
      "text/plain": [
       "'Pandemia acelerou transformação digital da mão de obra do trabalho, diz especialista https://t.co/at6xYjNRPG https://t.co/v73oHIZJ5x'"
      ]
     },
     "execution_count": 20,
     "metadata": {},
     "output_type": "execute_result"
    }
   ],
   "source": [
    "def clean(text):\n",
    "    cleaned = re.compile(r'<.*?>')\n",
    "    return re.sub(cleaned, '',text)\n",
    "data.text = data.text.apply(clean)\n",
    "data.text[0]"
   ]
  },
  {
   "cell_type": "markdown",
   "id": "d3d5f55b",
   "metadata": {},
   "source": [
    "3.1.1.2. Removendo Caractes Especiais"
   ]
  },
  {
   "cell_type": "code",
   "execution_count": 25,
   "id": "ac6be93f",
   "metadata": {},
   "outputs": [
    {
     "data": {
      "text/plain": [
       "'Pandemia acelerou transformação digital da mão de obra do trabalho  diz especialista https   t co at6xYjNRPG https   t co v73oHIZJ5x'"
      ]
     },
     "execution_count": 25,
     "metadata": {},
     "output_type": "execute_result"
    }
   ],
   "source": [
    "def is_special(text):\n",
    "    rem = ''\n",
    "    for i in text:\n",
    "        if i.isalnum():\n",
    "            rem = rem + i\n",
    "        else:\n",
    "            rem = rem + ' '\n",
    "    return rem\n",
    "\n",
    "data.text = data.text.apply(is_special)\n",
    "data.text[0]"
   ]
  },
  {
   "cell_type": "markdown",
   "id": "fe823341",
   "metadata": {},
   "source": [
    "3.1.1.3. Convertendo Tudo para Minúsculas (eliminando letras maiúsculas para não dar pesos diferentes para a mesma coisa)"
   ]
  },
  {
   "cell_type": "code",
   "execution_count": 26,
   "id": "6c204ddb",
   "metadata": {},
   "outputs": [
    {
     "data": {
      "text/plain": [
       "'pandemia acelerou transformação digital da mão de obra do trabalho  diz especialista https   t co at6xyjnrpg https   t co v73ohizj5x'"
      ]
     },
     "execution_count": 26,
     "metadata": {},
     "output_type": "execute_result"
    }
   ],
   "source": [
    "def to_lower(text):\n",
    "    return text.lower()\n",
    "\n",
    "data.text = data.text.apply(to_lower)\n",
    "data.text[0]"
   ]
  },
  {
   "cell_type": "markdown",
   "id": "510346d8",
   "metadata": {},
   "source": [
    "# 3.1.2. Tokenização"
   ]
  },
  {
   "cell_type": "markdown",
   "id": "b6158200",
   "metadata": {},
   "source": [
    "Removendo Stopwords (contagem de palavras que traz algum significado - eliminando palavras que não tras nada. e.g: artigos...). Atente para o tipo de dados que você está trabalhando."
   ]
  },
  {
   "cell_type": "code",
   "execution_count": 27,
   "id": "5247de29",
   "metadata": {},
   "outputs": [
    {
     "name": "stderr",
     "output_type": "stream",
     "text": [
      "[nltk_data] Downloading package stopwords to C:\\Users\\Samara Viana\n",
      "[nltk_data]     Costa\\AppData\\Roaming\\nltk_data...\n",
      "[nltk_data]   Package stopwords is already up-to-date!\n",
      "[nltk_data] Downloading package punkt to C:\\Users\\Samara Viana\n",
      "[nltk_data]     Costa\\AppData\\Roaming\\nltk_data...\n",
      "[nltk_data]   Package punkt is already up-to-date!\n"
     ]
    },
    {
     "data": {
      "text/plain": [
       "['pandemia',\n",
       " 'acelerou',\n",
       " 'transformação',\n",
       " 'digital',\n",
       " 'mão',\n",
       " 'obra',\n",
       " 'trabalho',\n",
       " 'diz',\n",
       " 'especialista',\n",
       " 'https',\n",
       " 't',\n",
       " 'co',\n",
       " 'at6xyjnrpg',\n",
       " 'https',\n",
       " 't',\n",
       " 'co',\n",
       " 'v73ohizj5x']"
      ]
     },
     "execution_count": 27,
     "metadata": {},
     "output_type": "execute_result"
    }
   ],
   "source": [
    "import nltk\n",
    "nltk.download('stopwords')\n",
    "nltk.download('punkt')\n",
    "\n",
    "def rem_stopwords(text):\n",
    "    stop_words = set(stopwords.words('portuguese'))\n",
    "    words = word_tokenize(text)\n",
    "    return [w for w in words if w not in stop_words]\n",
    "\n",
    "data.text = data.text.apply(rem_stopwords)\n",
    "data.text[0]"
   ]
  },
  {
   "cell_type": "markdown",
   "id": "a6c1bd8b",
   "metadata": {},
   "source": [
    "# 3.1.3. lematização"
   ]
  },
  {
   "cell_type": "code",
   "execution_count": 28,
   "id": "dcfd3c2b",
   "metadata": {},
   "outputs": [],
   "source": [
    "def Stemming(text):\n",
    "    stemmer = nltk.stem.RSLPStemmer()\n",
    "    words = []\n",
    "    for w in text.split():\n",
    "        words.append(stemmer.stem(w))\n",
    "    return (\" \".join(words))"
   ]
  },
  {
   "cell_type": "markdown",
   "id": "235317aa",
   "metadata": {},
   "source": [
    "# 4. CRIAÇÃO DO MODELO "
   ]
  },
  {
   "cell_type": "markdown",
   "id": "e8505df0",
   "metadata": {},
   "source": [
    "x = np.array(data.iloc[:,0].values)\n",
    "y = np.array(data.classific.values)\n",
    "cv = CountVectorizer(max_features = 1000)\n",
    "x = cv.fit_transform(data.text).toarray()\n",
    "print(\"x.shape = \",x.shape)\n",
    "print(\"y.shape = \",y.shape)"
   ]
  },
  {
   "cell_type": "markdown",
   "id": "d8e008e0",
   "metadata": {},
   "source": [
    "trainx,testx,trainy,testy = train_test_split(x,y,test_size=0.2,random_state=9)\n",
    "print(\"Train shapes : x = {}, y = {}\".format(trainx.shape,trainy.shape))\n",
    "print(\"Test shapes : x = {}, y = {}\".format(testx.shape,testy.shape))"
   ]
  },
  {
   "cell_type": "markdown",
   "id": "52ed9f67",
   "metadata": {},
   "source": [
    "gnb,mnb,bnb = GaussianNB(),MultinomialNB(alpha=1.0, fit_prior=True), BernoulliNB(alpha=1.0,fit_prior=True)\n",
    "gnb.fit(trainx,trainy)\n",
    "mnb.fit(trainx,trainy)\n",
    "bnb.fit(trainx,trainy)"
   ]
  },
  {
   "cell_type": "markdown",
   "id": "4f5e531a",
   "metadata": {},
   "source": [
    "ypg = gnb.predict(testx)\n",
    "ypm = mnb.predict(testx)\n",
    "ypb = bnb.predict(testx)"
   ]
  },
  {
   "cell_type": "code",
   "execution_count": null,
   "id": "25605c2d",
   "metadata": {},
   "outputs": [],
   "source": []
  }
 ],
 "metadata": {
  "kernelspec": {
   "display_name": "Python 3 (ipykernel)",
   "language": "python",
   "name": "python3"
  },
  "language_info": {
   "codemirror_mode": {
    "name": "ipython",
    "version": 3
   },
   "file_extension": ".py",
   "mimetype": "text/x-python",
   "name": "python",
   "nbconvert_exporter": "python",
   "pygments_lexer": "ipython3",
   "version": "3.9.12"
  }
 },
 "nbformat": 4,
 "nbformat_minor": 5
}
