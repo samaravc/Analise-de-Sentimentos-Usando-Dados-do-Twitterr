{
 "cells": [
  {
   "cell_type": "markdown",
   "id": "cd9f03c8",
   "metadata": {},
   "source": [
    "# 2. ANÁLISE DE SENTIMENTOS USANDO API \"TEXTBLOB\" "
   ]
  },
  {
   "attachments": {
    "TextBlob.png": {
     "image/png": "[encoded data removed]"
    }
   },
   "cell_type": "markdown",
   "id": "65ba43e1",
   "metadata": {},
   "source": [
    "![TextBlob.png](attachment:TextBlob.png)"
   ]
  },
  {
   "cell_type": "markdown",
   "id": "00170054",
   "metadata": {},
   "source": [
    "#Conhecendo a TextBlob\n",
    "\n",
    "Segundo a documentação, a TextBlob é uma biblioteca Python voltada para o processamento de dados textuais, o principal objeto de estudo do NLP. Além disso, ela tem a missão de simplificar alguns processos importantes, usando - por baixo dos panos - as bibliotecas NLTK.\n",
    "Vale ressaltar que, ao contrário de ferramentas como a NLTK, a TextBlob só possui suporte para a língua inglesa (desafio). "
   ]
  },
  {
   "cell_type": "markdown",
   "id": "9b62d98c",
   "metadata": {},
   "source": [
    "#link documentação\n",
    "https://textblob.readthedocs.io/en/dev/"
   ]
  },
  {
   "cell_type": "code",
   "execution_count": 13,
   "id": "4aec2080",
   "metadata": {},
   "outputs": [
    {
     "name": "stdout",
     "output_type": "stream",
     "text": [
      "Defaulting to user installation because normal site-packages is not writeable\n",
      "Requirement already satisfied: textblob in c:\\users\\samara viana costa\\appdata\\roaming\\python\\python39\\site-packages (0.17.1)\n",
      "Requirement already satisfied: nltk>=3.1 in c:\\users\\samara viana costa\\appdata\\roaming\\python\\python39\\site-packages (from textblob) (3.8.1)\n",
      "Requirement already satisfied: regex>=2021.8.3 in c:\\programdata\\anaconda3\\lib\\site-packages (from nltk>=3.1->textblob) (2022.3.15)\n",
      "Requirement already satisfied: tqdm in c:\\programdata\\anaconda3\\lib\\site-packages (from nltk>=3.1->textblob) (4.64.0)\n",
      "Requirement already satisfied: click in c:\\programdata\\anaconda3\\lib\\site-packages (from nltk>=3.1->textblob) (8.0.4)\n",
      "Requirement already satisfied: joblib in c:\\programdata\\anaconda3\\lib\\site-packages (from nltk>=3.1->textblob) (1.1.0)\n",
      "Requirement already satisfied: colorama in c:\\programdata\\anaconda3\\lib\\site-packages (from click->nltk>=3.1->textblob) (0.4.4)\n",
      "Defaulting to user installation because normal site-packages is not writeable\n",
      "Requirement already satisfied: nltk in c:\\users\\samara viana costa\\appdata\\roaming\\python\\python39\\site-packages (3.8.1)\n",
      "Requirement already satisfied: regex>=2021.8.3 in c:\\programdata\\anaconda3\\lib\\site-packages (from nltk) (2022.3.15)\n",
      "Requirement already satisfied: joblib in c:\\programdata\\anaconda3\\lib\\site-packages (from nltk) (1.1.0)\n",
      "Requirement already satisfied: tqdm in c:\\programdata\\anaconda3\\lib\\site-packages (from nltk) (4.64.0)\n",
      "Requirement already satisfied: click in c:\\programdata\\anaconda3\\lib\\site-packages (from nltk) (8.0.4)\n",
      "Requirement already satisfied: colorama in c:\\programdata\\anaconda3\\lib\\site-packages (from click->nltk) (0.4.4)\n"
     ]
    }
   ],
   "source": [
    "#instalando a API\n",
    "!pip install -U textblob\n",
    "!pip install nltk"
   ]
  },
  {
   "cell_type": "markdown",
   "id": "fea3a6a7",
   "metadata": {},
   "source": [
    "#Antes de usar algumas funções dessa biblioteca, será necessário importar e instalar alguns pacotes que pertencem à NLTK."
   ]
  },
  {
   "cell_type": "code",
   "execution_count": 14,
   "id": "41a7ac59",
   "metadata": {},
   "outputs": [
    {
     "name": "stderr",
     "output_type": "stream",
     "text": [
      "[nltk_data] Downloading package movie_reviews to C:\\Users\\Samara Viana\n",
      "[nltk_data]     Costa\\AppData\\Roaming\\nltk_data...\n",
      "[nltk_data]   Package movie_reviews is already up-to-date!\n",
      "[nltk_data] Downloading package wordnet to C:\\Users\\Samara Viana\n",
      "[nltk_data]     Costa\\AppData\\Roaming\\nltk_data...\n",
      "[nltk_data]   Package wordnet is already up-to-date!\n",
      "[nltk_data] Downloading package averaged_perceptron_tagger to\n",
      "[nltk_data]     C:\\Users\\Samara Viana\n",
      "[nltk_data]     Costa\\AppData\\Roaming\\nltk_data...\n",
      "[nltk_data]   Package averaged_perceptron_tagger is already up-to-\n",
      "[nltk_data]       date!\n",
      "[nltk_data] Downloading package brown to C:\\Users\\Samara Viana\n",
      "[nltk_data]     Costa\\AppData\\Roaming\\nltk_data...\n",
      "[nltk_data]   Package brown is already up-to-date!\n",
      "[nltk_data] Downloading package punkt to C:\\Users\\Samara Viana\n",
      "[nltk_data]     Costa\\AppData\\Roaming\\nltk_data...\n",
      "[nltk_data]   Package punkt is already up-to-date!\n"
     ]
    },
    {
     "data": {
      "text/plain": [
       "True"
      ]
     },
     "execution_count": 14,
     "metadata": {},
     "output_type": "execute_result"
    }
   ],
   "source": [
    "#Vamos importar a NLTK e baixar os pacotes necessários.\n",
    "import nltk\n",
    "nltk.download('movie_reviews')\n",
    "nltk.download('wordnet')\n",
    "nltk.download('averaged_perceptron_tagger')\n",
    "nltk.download('brown')\n",
    "nltk.download('punkt')"
   ]
  },
  {
   "cell_type": "markdown",
   "id": "0f7d8265",
   "metadata": {},
   "source": [
    "# 2.1. DOMINANDO O BÁSICO DO TEXTBLOB"
   ]
  },
  {
   "cell_type": "markdown",
   "id": "866649d4",
   "metadata": {},
   "source": [
    "# 2.1.1. Tokenização"
   ]
  },
  {
   "cell_type": "markdown",
   "id": "741e71af",
   "metadata": {},
   "source": [
    "Ao criar um objeto, podemos fazer a decomposição do texto que é extremamente importante em NLP. Esse processo de decomposição também é conhecido como tokenização. Existem diversas formas de tokenizar um texto como retirar pontuação e palavras que não são tão importantes. "
   ]
  },
  {
   "cell_type": "code",
   "execution_count": 15,
   "id": "5ac82a06",
   "metadata": {},
   "outputs": [],
   "source": [
    "#\"Brazil is an amazing country! I love bossa nova\"\n",
    "#\"O Brasil é um país incrível! Eu amo a bossa nova\"\n",
    "\n",
    "import textblob\n",
    "blob = textblob.TextBlob(\"Brazil is an amazing country! I love bossa nova.\")"
   ]
  },
  {
   "cell_type": "code",
   "execution_count": 16,
   "id": "496b0e6b",
   "metadata": {},
   "outputs": [
    {
     "data": {
      "text/plain": [
       "[Sentence(\"Brazil is an amazing country!\"), Sentence(\"I love bossa nova.\")]"
      ]
     },
     "execution_count": 16,
     "metadata": {},
     "output_type": "execute_result"
    }
   ],
   "source": [
    "#Partindo do objeto TextBlob, podemos extrair as sentenças do texto usando o comando\n",
    "blob.sentences"
   ]
  },
  {
   "cell_type": "code",
   "execution_count": 17,
   "id": "bf74305e",
   "metadata": {},
   "outputs": [
    {
     "data": {
      "text/plain": [
       "WordList(['Brazil', 'is', 'an', 'amazing', 'country', 'I', 'love', 'bossa', 'nova'])"
      ]
     },
     "execution_count": 17,
     "metadata": {},
     "output_type": "execute_result"
    }
   ],
   "source": [
    "#Além disso, é possível quebrar o texto em palavras\n",
    "#Que retorna um objeto WordList contendo todas as palavras do texto sem pontuação\n",
    "blob.words"
   ]
  },
  {
   "cell_type": "markdown",
   "id": "7292f399",
   "metadata": {},
   "source": [
    "#Uma outra função que o objeto TextBlob nos oferece é a de extração de frases nominais. Estas apresentam mais de uma palavra, mas com um sentido único. Um bom exemplo disso é o termo Fake News que é composto de duas palavras, mas tem um significado específico.\n",
    "Identificar esses termos pode ser um pouco complicado quando estamos trabalhando PNL, mas a TextBlob faz de uma maneira muito simples."
   ]
  },
  {
   "cell_type": "code",
   "execution_count": 5,
   "id": "93aae12b",
   "metadata": {},
   "outputs": [
    {
     "data": {
      "text/plain": [
       "WordList(['brazil', 'amazing country', 'bossa nova'])"
      ]
     },
     "execution_count": 5,
     "metadata": {},
     "output_type": "execute_result"
    }
   ],
   "source": [
    "#Identificando frases nomianis \n",
    "#Podemos tratar 'bossa nova' como uma construção única e não perder o sentido da frase.\n",
    "blob.noun_phrases"
   ]
  },
  {
   "cell_type": "markdown",
   "id": "ce45e0aa",
   "metadata": {},
   "source": [
    "# 2.2.2. CLASSIFICAÇÃO"
   ]
  },
  {
   "cell_type": "markdown",
   "id": "b5dacc3b",
   "metadata": {},
   "source": [
    "Dos desafios clássicos, quando lidamos com problemas de NLP, dois deles têm destaque na TextBlob: a classificação de palavras e a lematização.\n",
    "\n",
    "A classificação de palavras nos ajuda a entender a morfologia dos elementos de uma frase, sejam eles substantivos, artigos, etc. Essa classificação pode facilitar, por exemplo, a compreensão de quais são os temas do texto a partir da avaliação dos substantivos."
   ]
  },
  {
   "cell_type": "code",
   "execution_count": 18,
   "id": "b2015c95",
   "metadata": {},
   "outputs": [
    {
     "data": {
      "text/plain": [
       "[('Brazil', 'NNP'),\n",
       " ('is', 'VBZ'),\n",
       " ('an', 'DT'),\n",
       " ('amazing', 'JJ'),\n",
       " ('country', 'NN'),\n",
       " ('I', 'PRP'),\n",
       " ('love', 'VBP'),\n",
       " ('bossa', 'JJ'),\n",
       " ('nova', 'NN')]"
      ]
     },
     "execution_count": 18,
     "metadata": {},
     "output_type": "execute_result"
    }
   ],
   "source": [
    "#Para realizar a classificação, basta acessar o atributo tags do nosso objeto TextBlob\n",
    "blob.tags"
   ]
  },
  {
   "cell_type": "markdown",
   "id": "e95b3a21",
   "metadata": {},
   "source": [
    "#NNP, que é a tag da palavra Brazil, refere-se a um substantivo próprio no singular, enquanto JJ está relacionado ao adjetivo..."
   ]
  },
  {
   "cell_type": "markdown",
   "id": "dbe4d3d7",
   "metadata": {},
   "source": [
    "# 2.2.3. Lematização"
   ]
  },
  {
   "cell_type": "markdown",
   "id": "41a31489",
   "metadata": {},
   "source": [
    "A lematização. De maneira geral, ela reduz uma palavra à sua base, retirando flexões, prefixos e sufixos. \n",
    "\n",
    "Para exemplificar o trabalho com a lematização na Textblob, vamos usar a frase \"The documents are under the tables\", Vamos usar a função lemmatize() em cada uma das palavras na nossa frase:"
   ]
  },
  {
   "cell_type": "code",
   "execution_count": 7,
   "id": "3e97a6ef",
   "metadata": {},
   "outputs": [],
   "source": [
    "exemplo = textblob.TextBlob(\"The documents are under the tables\")"
   ]
  },
  {
   "cell_type": "code",
   "execution_count": 8,
   "id": "d7389014",
   "metadata": {},
   "outputs": [],
   "source": [
    "lemmatized = [word.lemmatize() for word in exemplo.words]"
   ]
  },
  {
   "cell_type": "code",
   "execution_count": 19,
   "id": "938ba782",
   "metadata": {},
   "outputs": [
    {
     "data": {
      "text/plain": [
       "['The', 'document', 'are', 'under', 'the', 'table']"
      ]
     },
     "execution_count": 19,
     "metadata": {},
     "output_type": "execute_result"
    }
   ],
   "source": [
    "#Que vai retornar uma lista de palavras lematizadas\n",
    "lemmatized "
   ]
  },
  {
   "cell_type": "markdown",
   "id": "95b21444",
   "metadata": {},
   "source": [
    "Percebam que as palavras que antes estavam no plural agora estão sem flexão."
   ]
  },
  {
   "cell_type": "markdown",
   "id": "7329ef10",
   "metadata": {},
   "source": [
    "# 2.2.4. Análise de sentimentos"
   ]
  },
  {
   "cell_type": "markdown",
   "id": "4f9c5b83",
   "metadata": {},
   "source": [
    "Existem diversos métodos para fazer análise de sentimentos, avaliando se a frases denotam sentimentos negativos ou positivos. \n",
    "\n",
    "Para isso, basta acessar o atributo 'sentiment' do objeto TextBlob. Esse atributo retorna um objeto 'Sentiment' que possui 2 valores. O primeiro refere-se à polaridade da frase, que vai desde a mais negativa (-1) à mais positiva (1). Já o segundo valor está relacionado à subjetividade/objetividade da frase. Esse valor varia de 0 a 1 e quanto mais próximo de 1, mais subjetiva é a frase."
   ]
  },
  {
   "cell_type": "markdown",
   "id": "42eda595",
   "metadata": {},
   "source": [
    "Exemplo possitivo:"
   ]
  },
  {
   "cell_type": "code",
   "execution_count": 22,
   "id": "3a755cfd",
   "metadata": {},
   "outputs": [
    {
     "data": {
      "text/plain": [
       "Sentiment(classification='pos', p_pos=0.9321980125152954, p_neg=0.06780198748470621)"
      ]
     },
     "execution_count": 22,
     "metadata": {},
     "output_type": "execute_result"
    }
   ],
   "source": [
    "#realizando analise de sentimentos via API\n",
    "from textblob import TextBlob\n",
    "from textblob.sentiments import NaiveBayesAnalyzer\n",
    "\n",
    "#criar um objeto blob que recebe, como parâmetro, o texto com o qual vamos trabalhar. \n",
    "#Probabilidade (polaridades)\n",
    "blob = TextBlob(\"Brazil is an amazing country! I love bossa nova\", analyzer=NaiveBayesAnalyzer())\n",
    "blob.sentiment"
   ]
  },
  {
   "cell_type": "code",
   "execution_count": 23,
   "id": "e3548c03",
   "metadata": {},
   "outputs": [
    {
     "data": {
      "text/plain": [
       "Sentiment(polarity=0.625, subjectivity=0.75)"
      ]
     },
     "execution_count": 23,
     "metadata": {},
     "output_type": "execute_result"
    }
   ],
   "source": [
    "#Probabilidade (polaridades) e subjetividade\n",
    "blob = TextBlob(\"Brazil is an amazing country! I love bossa nova\")\n",
    "blob.sentiment"
   ]
  },
  {
   "cell_type": "markdown",
   "id": "1ce099fd",
   "metadata": {},
   "source": [
    "Exemplo negativo:"
   ]
  },
  {
   "cell_type": "code",
   "execution_count": 24,
   "id": "567e518e",
   "metadata": {},
   "outputs": [
    {
     "data": {
      "text/plain": [
       "Sentiment(polarity=-1.0, subjectivity=1.0)"
      ]
     },
     "execution_count": 24,
     "metadata": {},
     "output_type": "execute_result"
    }
   ],
   "source": [
    "textblob.TextBlob('My experience in Brazil was terrible').sentiment"
   ]
  },
  {
   "cell_type": "markdown",
   "id": "66b6ee93",
   "metadata": {},
   "source": [
    "Essa frase apresenta uma conotação negativa e uma alta subjetividade."
   ]
  },
  {
   "cell_type": "markdown",
   "id": "4aeb8c44",
   "metadata": {},
   "source": [
    "# 2.2. CONCLUSÃO:"
   ]
  },
  {
   "cell_type": "markdown",
   "id": "5bc4b54c",
   "metadata": {},
   "source": [
    "1. Essa forma de análise de sentimentos é do tipo não-supervisionada, o que significa que não precisamos passar uma base de frases positivas e negativas para fazer a classificação, sendo uma ferramenta bastante poderosa e de fácil uso."
   ]
  },
  {
   "cell_type": "markdown",
   "id": "8b5d4c99",
   "metadata": {},
   "source": [
    "2. A biblioteca oferece simplicidade e eficiência em alguns processos caros relacionados ao processamento de linguagem natural. É especialmente recomendada a quem está iniciando na área, a quem busca funções pontuais e pode \"quebrar o galho\" em projetos de pequeno porte."
   ]
  },
  {
   "cell_type": "markdown",
   "id": "6fc03644",
   "metadata": {},
   "source": [
    "FIM!"
   ]
  }
 ],
 "metadata": {
  "kernelspec": {
   "display_name": "Python 3 (ipykernel)",
   "language": "python",
   "name": "python3"
  },
  "language_info": {
   "codemirror_mode": {
    "name": "ipython",
    "version": 3
   },
   "file_extension": ".py",
   "mimetype": "text/x-python",
   "name": "python",
   "nbconvert_exporter": "python",
   "pygments_lexer": "ipython3",
   "version": "3.9.12"
  }
 },
 "nbformat": 4,
 "nbformat_minor": 5
}
